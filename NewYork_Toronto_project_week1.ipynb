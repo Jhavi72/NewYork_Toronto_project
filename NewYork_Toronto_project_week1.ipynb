{
 "cells": [
  {
   "cell_type": "markdown",
   "metadata": {},
   "source": [
    "<h1 align=center><font size = 5>Market strategy of an online food-delivery company in the cities of New York and Toronto</font></h1>"
   ]
  },
  {
   "cell_type": "markdown",
   "metadata": {},
   "source": [
    "# Final Report"
   ]
  },
  {
   "cell_type": "markdown",
   "metadata": {},
   "source": [
    "## 0. The changing market for food delivery"
   ]
  },
  {
   "cell_type": "markdown",
   "metadata": {},
   "source": [
    "The business of delivering restaurants meals to the home is undergoing rapid change as new online platforms race to capture markets and customers across over the world.\n",
    "\n",
    "Worldwide, the market for food delivery stands at €83 billion, or 1 % of the total food market, and has already matured in most countries, with an overall annual growth rate estimated at just 3.5 % for the next five years."
   ]
  },
  {
   "cell_type": "markdown",
   "metadata": {},
   "source": [
    "**The food-delivery market has the potential for robust growth**   \n",
    "Total addressable classic food-delivery market, %"
   ]
  },
  {
   "cell_type": "markdown",
   "metadata": {},
   "source": [
    "<img src='ny_t_ima1.jpg'>"
   ]
  },
  {
   "cell_type": "markdown",
   "metadata": {},
   "source": [
    "By far, the most common form of delivery is the traditional model. However, as in so many other sectors, the rise of digital technology is reshaping the market.\n",
    "\n",
    "The opportunity for new online-delivery is to extend food delivery to a new group of restaurants and customers, especially in cities like New York and Toronto. So stakeholders of our company wants to know more information about neighbourhoods in this cities."
   ]
  },
  {
   "cell_type": "markdown",
   "metadata": {},
   "source": [
    "## 1. Business problem"
   ]
  },
  {
   "cell_type": "markdown",
   "metadata": {},
   "source": [
    "Our online-delivery company wants to put into market for the next years, new services and products in the cities of New York and Toronto.\n",
    "The company needs to plan and prior where to begin, in New York or Toronto. The strategy in the first stage is to study both cities.\n",
    "So the company has decided to analyze and determine some parameters of this cities, in order to take a decision.\n",
    "This market study must analyze neighbourhoods, total number, geolocation, density, and so on.\n",
    "\n",
    "This information will let stakeholders of our company to know more about necessary resources, and also will let to take the right decision."
   ]
  },
  {
   "cell_type": "markdown",
   "metadata": {},
   "source": [
    "## 2. Data"
   ]
  },
  {
   "cell_type": "markdown",
   "metadata": {},
   "source": [
    "At initial stage the company doesn't have any kind of information so an exploratory study is needed. The main source consulted is the web.\n",
    "\n",
    "To solve the problem, data will be record, prepared and processed. Then some metrics will be calculated to compare the cities of New York and Toronto."
   ]
  },
  {
   "cell_type": "markdown",
   "metadata": {},
   "source": [
    "## 2.1. New York"
   ]
  },
  {
   "cell_type": "markdown",
   "metadata": {},
   "source": [
    "Neighborhood in New York City has a total of 5 boroughs and 306 neighborhoods. In order to segment the neighborhoods and explore them, its needed a dataset that contains the 5 boroughs and the neighborhoods that exist in each borough as well as the the latitude and longitude coordinates of each neighborhood. \n",
    "\n",
    "We get the dataset from this web link in Geojson format: https://geo.nyu.edu/catalog/nyu_2451_34572\n",
    "\n",
    "The file name is: nyu-2451-34572-geojson.json"
   ]
  },
  {
   "cell_type": "markdown",
   "metadata": {},
   "source": [
    "<img src='ny_neigh_ima.jpg'>"
   ]
  },
  {
   "cell_type": "markdown",
   "metadata": {},
   "source": [
    "## 2.2. Toronto"
   ]
  },
  {
   "cell_type": "markdown",
   "metadata": {},
   "source": [
    "Toronto city has 289 neighbourhoods, so is similar to New York.\n",
    "\n",
    "We get the dataset from Wikipedia at this web link: (https://en.wikipedia.org/wiki/List_of_postal_codes_of_Canada:_M)"
   ]
  },
  {
   "cell_type": "markdown",
   "metadata": {},
   "source": [
    "<img src='t_neigh_ima.jpg'>"
   ]
  }
 ],
 "metadata": {
  "kernelspec": {
   "display_name": "Python 3",
   "language": "python",
   "name": "python3"
  },
  "language_info": {
   "codemirror_mode": {
    "name": "ipython",
    "version": 3
   },
   "file_extension": ".py",
   "mimetype": "text/x-python",
   "name": "python",
   "nbconvert_exporter": "python",
   "pygments_lexer": "ipython3",
   "version": "3.6.6"
  },
  "widgets": {
   "state": {},
   "version": "1.1.2"
  }
 },
 "nbformat": 4,
 "nbformat_minor": 2
}

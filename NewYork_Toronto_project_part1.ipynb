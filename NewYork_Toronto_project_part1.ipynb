{
 "cells": [
  {
   "cell_type": "markdown",
   "metadata": {},
   "source": [
    "<h1 align=center><font size = 5>Market strategy of a delivery company in the cities of New York and Toronto</font></h1>"
   ]
  },
  {
   "cell_type": "markdown",
   "metadata": {},
   "source": [
    "# Final Report"
   ]
  },
  {
   "cell_type": "markdown",
   "metadata": {},
   "source": [
    "## Table of Contents\n",
    "\n",
    "<div class=\"alert alert-block alert-info\" style=\"margin-top: 20px\">\n",
    "\n",
    "<font size = 3>\n",
    "1. <a href=\"#item1\">Business problem</a>\n",
    "2. <a href=\"#item1\">Data</a>\n",
    "3. <a href=\"#item1\">Methodology</a>\n",
    "4. <a href=\"#item1\">Results</a>\n",
    "5. <a href=\"#item1\">Discussion</a>\n",
    "6. <a href=\"#item1\">Conclusion</a> \n",
    "</font>\n",
    "</div>"
   ]
  },
  {
   "cell_type": "markdown",
   "metadata": {},
   "source": [
    "## 1. Business problem"
   ]
  },
  {
   "cell_type": "markdown",
   "metadata": {},
   "source": [
    "A delivery company wants to put into market for the next years, new services and products in the cities of New York and Toronto.\n",
    "The company needs to plan and prior where to begin, in New York or Toronto. The strategy in the first stage is to study both cities.\n",
    "So the company has decided to analyze and determine some parameters of this cities, in order to take a decision.\n",
    "This market study must analyze neighbourhoods, total number, geolocation, density, and so on."
   ]
  },
  {
   "cell_type": "markdown",
   "metadata": {},
   "source": [
    "## 2. Data"
   ]
  },
  {
   "cell_type": "markdown",
   "metadata": {},
   "source": [
    "## 2.1. New York"
   ]
  },
  {
   "cell_type": "markdown",
   "metadata": {},
   "source": [
    "Neighborhood in New York City has a total of 5 boroughs and 306 neighborhoods. In order to segment the neighborhoods and explore them, its needed a dataset that contains the 5 boroughs and the neighborhoods that exist in each borough as well as the the latitude and longitude coordinates of each neighborhood. \n",
    "\n",
    "We get the dataset from this web link in Geojson format: https://geo.nyu.edu/catalog/nyu_2451_34572\n",
    "\n",
    "The file name is: nyu-2451-34572-geojson.json"
   ]
  },
  {
   "cell_type": "markdown",
   "metadata": {},
   "source": [
    "## 2.2. Toronto"
   ]
  },
  {
   "cell_type": "markdown",
   "metadata": {},
   "source": [
    "Same analysis is required for Toronto City.\n",
    "\n",
    "Dataset source is Wikipedia (https://en.wikipedia.org/wiki/List_of_postal_codes_of_Canada:_M)"
   ]
  },
  {
   "cell_type": "markdown",
   "metadata": {},
   "source": [
    "# 3. Methodology"
   ]
  },
  {
   "cell_type": "markdown",
   "metadata": {},
   "source": [
    "## 3.1. Project Objective\n",
    "\n",
    "In this project, with the Foursquare API explores neighborhoods similarity between New York City and Toronto. Using k-means clustering algorithm to group each neighbourhood. Finally, using the Folium library to visualize the neighborhoods in New York City and Toronto and their emerging clusters, and also comparing parameters as total number of neighbourhoods, density and so on."
   ]
  },
  {
   "cell_type": "markdown",
   "metadata": {},
   "source": [
    "## 3.2. Getting Data"
   ]
  },
  {
   "cell_type": "markdown",
   "metadata": {},
   "source": [
    "# 4. Results"
   ]
  },
  {
   "cell_type": "markdown",
   "metadata": {},
   "source": [
    "# 5. Discussion"
   ]
  },
  {
   "cell_type": "markdown",
   "metadata": {},
   "source": [
    "# 6. Conclusion"
   ]
  }
 ],
 "metadata": {
  "kernelspec": {
   "display_name": "Python 3",
   "language": "python",
   "name": "python3"
  },
  "language_info": {
   "codemirror_mode": {
    "name": "ipython",
    "version": 3
   },
   "file_extension": ".py",
   "mimetype": "text/x-python",
   "name": "python",
   "nbconvert_exporter": "python",
   "pygments_lexer": "ipython3",
   "version": "3.6.6"
  },
  "widgets": {
   "state": {},
   "version": "1.1.2"
  }
 },
 "nbformat": 4,
 "nbformat_minor": 2
}
